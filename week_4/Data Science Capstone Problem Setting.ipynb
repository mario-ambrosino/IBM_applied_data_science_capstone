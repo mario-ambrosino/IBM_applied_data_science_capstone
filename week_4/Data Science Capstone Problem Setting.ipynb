{
 "cells": [
  {
   "cell_type": "markdown",
   "metadata": {},
   "source": [
    "1. A description of the problem and a discussion of the background. (15 marks)\n",
    "1. A description of the data and how it will be used to solve the problem. (15 marks)"
   ]
  },
  {
   "cell_type": "markdown",
   "metadata": {},
   "source": [
    "## Problem Description\n",
    "\n",
    "*\"In the city of Chicago, the data-driven government is taken very seriously! There's a huge and fantastic [open-data portal](https://data.cityofchicago.org).\"*\n",
    "\n",
    "Your open-data-lover friend is continuing to blabbering about the glorious city of Chicago behind his red Irish ale. You work for your town Mayor's office as a simple data wrangler/entry job. One question rises in your head: \"Why your city hasn't the same dataset chicago has?\". Then you try to get a sip of your beer. It tastes really bad. Your next jesture is precise and fast: you take your smartphone and search for reviews about the venue in which you are in.\n",
    "\n",
    "Suddenly, you realise that you could treat the open-data of the food-inspector intervention on the neighborhoods in chicago as a \"supervised target\", using as indipendent variables the ratings of the worst food-related venus in the same neighborhoods on an app like Foursquare. \n",
    "\n",
    "You could make clusters in space and time, using neighborhoods and three-months-period, respectively. Then you could try to predict when does it will appropriate to send a surprise inspection in a certain area in your city, trying to discover a way to transfer the model you obtained for Chicago to your city, San Francisco. \n",
    "\n",
    "The next day, you propose this to the Food Inspection Office, that gives this assignment to the same person that proposed the idea. You.\n",
    "\n",
    "**Please note:** This is only an initial idea. It needs to be validated through the data visualization."
   ]
  },
  {
   "cell_type": "markdown",
   "metadata": {},
   "source": [
    "## Data Description\n",
    "\n",
    "At the moment, seems that there are 4 main data sources that could be used for the problem:\n",
    "\n",
    "1. [Open-Data Chicago City](https://data.cityofchicago.org/Health-Human-Services/Food-Inspections-Map/cnfp-tsxc)\n",
    "1. [Open-Data San Francisco City](https://data.sfgov.org/Health-and-Social-Services/Restaurant-Scores-LIVES-Standard/pyih-qa8i)\n",
    "1. Foursquare API: Chicago venues datasets.\n",
    "1. Foursquare API: San Francisco venues datasets.\n",
    "\n",
    "I wrote some idea inside the background of the \"problem description\": treating the [1] as a target value for labels (neighborhood, quarter of year), where the prediction is about if the inspection would gave positive results (violation field in the dataset), and using the neighborhood venues datasets as feature train dataset. Then it could be replicated for the san francisco datasets, which is smaller. I am only worried about the temporal segmentation, I don't know if it will be fruitful. "
   ]
  }
 ],
 "metadata": {
  "kernelspec": {
   "display_name": "Python 3",
   "language": "python",
   "name": "python3"
  },
  "language_info": {
   "codemirror_mode": {
    "name": "ipython",
    "version": 3
   },
   "file_extension": ".py",
   "mimetype": "text/x-python",
   "name": "python",
   "nbconvert_exporter": "python",
   "pygments_lexer": "ipython3",
   "version": "3.7.3"
  }
 },
 "nbformat": 4,
 "nbformat_minor": 2
}
